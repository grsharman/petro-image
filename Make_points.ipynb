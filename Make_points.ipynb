{
 "cells": [
  {
   "cell_type": "markdown",
   "id": "2df92609-3c64-4360-b086-6060e301c860",
   "metadata": {},
   "source": [
    "### Code that creates X and Y coordinates and labels for point counts on an image"
   ]
  },
  {
   "cell_type": "code",
   "execution_count": null,
   "id": "30652da3",
   "metadata": {},
   "outputs": [],
   "source": [
    "import matplotlib.pyplot as plt\n",
    "import matplotlib.image as mpimg\n",
    "import numpy as np"
   ]
  },
  {
   "cell_type": "markdown",
   "id": "633958c5-2f30-47ac-bf2b-72a19d3ba85d",
   "metadata": {},
   "source": [
    "##### Load the image and specify starting and ending points of the grid"
   ]
  },
  {
   "cell_type": "code",
   "execution_count": null,
   "id": "1f9b5c63-71cd-4b62-9e1d-83e93ed165d2",
   "metadata": {},
   "outputs": [],
   "source": [
    "# Read the image\n",
    "img = mpimg.imread('images/O48-014.jpg') # Specify image to be loaded\n",
    "um_per_pixel = 10 # Specify resolution of pixel in um per pixel\n",
    "step_um = 2000 # Step size of grid, in um\n",
    "start = [15000,5000] # Specify x, y starting location, um from upper left\n",
    "end = [42000,27000] # Specify x, y ending location, um from upper left\n",
    "\n",
    "x_um = img.shape[1]*um_per_pixel\n",
    "y_um = img.shape[0]*um_per_pixel\n",
    "\n",
    "print(x_um, 'um in x-axis dimension')\n",
    "print(y_um, 'um in y-axis dimension')\n",
    "\n",
    "# Display the image with starting and ending locations\n",
    "plt.imshow(img)\n",
    "plt.axis('off')  # Optional: Turn off axis labels\n",
    "plt.plot(start[0]/um_per_pixel,start[1]/um_per_pixel, 'o', color='white')\n",
    "plt.plot(end[0]/um_per_pixel,end[1]/um_per_pixel, 's', color='white')\n",
    "\n",
    "plt.show()"
   ]
  },
  {
   "cell_type": "markdown",
   "id": "cdfd616d-f9e3-4b16-a111-3130d25b2071",
   "metadata": {},
   "source": [
    "##### Create 1D arrays with X and Y coordinates and labels for each point"
   ]
  },
  {
   "cell_type": "code",
   "execution_count": null,
   "id": "0aa1897b-d874-4d3b-85a4-aaa7bef1379a",
   "metadata": {},
   "outputs": [],
   "source": [
    "# Start at top-left pixel and progress to the bottom-right in snake-like pattern\n",
    "n_y_rows = int((end[1]-start[1])/step_um)\n",
    "n_x_cols = int((end[0]-start[0])/step_um)\n",
    "\n",
    "# Make 1D x-axis array that reflects snaking increments from top left to bottom right\n",
    "x_vals = start[0]+np.arange(0, n_x_cols, 1)*step_um\n",
    "X = np.tile(x_vals, n_y_rows)\n",
    "X = X.reshape(n_y_rows, n_x_cols)\n",
    "X = np.where(np.arange(len(X))[:,None]%2,X[:,::-1],X) # https://stackoverflow.com/questions/55677100/snake-traversal-of-2d-numpy-array\n",
    "X = X.flatten()\n",
    "\n",
    "# Make 1D y-axis values for the same array\n",
    "y_vals = start[1]+np.arange(0, n_y_rows, 1)*step_um\n",
    "Y = np.repeat(y_vals, n_x_cols)\n",
    "\n",
    "# Define 1D array with point count labels\n",
    "a = np.arange(1, n_y_rows*n_x_cols+1, 1)"
   ]
  },
  {
   "cell_type": "code",
   "execution_count": null,
   "id": "32ea816b-43e4-4fe5-8c5b-e7538f6a958e",
   "metadata": {},
   "outputs": [],
   "source": [
    "fig, ax = plt.subplots(figsize=(20,15))\n",
    "\n",
    "# Display the image\n",
    "ax.imshow(img)\n",
    "ax.axis('off')  # Optional: Turn off axis labels\n",
    "ax.plot(start[0]/um_per_pixel,start[1]/um_per_pixel, 'o', color='white')\n",
    "ax.plot(end[0]/um_per_pixel,end[1]/um_per_pixel, 's', color='white')\n",
    "\n",
    "for i in range(len(a)):\n",
    "    ax.plot(X[i]/um_per_pixel, Y[i]/um_per_pixel, '+', color='red', alpha=1)\n",
    "    ax.text(X[i]/um_per_pixel, Y[i]/um_per_pixel, a[i], fontsize='small', color='red')"
   ]
  },
  {
   "cell_type": "code",
   "execution_count": null,
   "id": "3394d631-e64a-461a-a719-5a3574722f1d",
   "metadata": {},
   "outputs": [],
   "source": []
  }
 ],
 "metadata": {
  "kernelspec": {
   "display_name": "Python 3 (ipykernel)",
   "language": "python",
   "name": "python3"
  },
  "language_info": {
   "codemirror_mode": {
    "name": "ipython",
    "version": 3
   },
   "file_extension": ".py",
   "mimetype": "text/x-python",
   "name": "python",
   "nbconvert_exporter": "python",
   "pygments_lexer": "ipython3",
   "version": "3.10.9"
  }
 },
 "nbformat": 4,
 "nbformat_minor": 5
}
