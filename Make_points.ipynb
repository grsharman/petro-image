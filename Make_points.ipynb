{
 "cells": [
  {
   "cell_type": "markdown",
   "id": "2df92609-3c64-4360-b086-6060e301c860",
   "metadata": {},
   "source": [
    "### Code that creates X and Y coordinates and labels for point counts on an image\n",
    "Updated to allow automatic infilling (October 12)"
   ]
  },
  {
   "cell_type": "code",
   "execution_count": null,
   "id": "30652da3",
   "metadata": {},
   "outputs": [],
   "source": [
    "import matplotlib.pyplot as plt\n",
    "import matplotlib.image as mpimg\n",
    "import numpy as np\n",
    "import pandas as pd"
   ]
  },
  {
   "cell_type": "markdown",
   "id": "633958c5-2f30-47ac-bf2b-72a19d3ba85d",
   "metadata": {},
   "source": [
    "##### Load the image and specify starting and ending points of the grid"
   ]
  },
  {
   "cell_type": "code",
   "execution_count": null,
   "id": "1f9b5c63-71cd-4b62-9e1d-83e93ed165d2",
   "metadata": {},
   "outputs": [],
   "source": [
    "# Read the image\n",
    "img = mpimg.imread('images/O48-014.jpg') # Specify image to be loaded\n",
    "um_per_pixel = 10 # Specify resolution of pixel in um per pixel\n",
    "step_um = 500 # Step size of grid, in um\n",
    "no_points = 600 # Specify number of desired points\n",
    "start = [0.1, 0.2] # Specify x, y starting location, in relative image coordinates (0-1)\n",
    "end = [0.9, 0.8] # Specify x, y starting location, in relative image coordinates (0-1)\n",
    "#start = [15000,5000] # Specify x, y starting location, um from upper left\n",
    "#end = [42000,27000] # Specify x, y ending location, um from upper left\n",
    "\n",
    "y, x = img.shape[0:2]\n",
    "\n",
    "x_um = x*um_per_pixel\n",
    "y_um = y*um_per_pixel\n",
    "\n",
    "start_um = [start[0]*img.shape[1]*um_per_pixel, start[1]*img.shape[0]*um_per_pixel]\n",
    "end_um = [end[0]*img.shape[1]*um_per_pixel, end[1]*img.shape[0]*um_per_pixel]\n",
    "print(start_um, end_um)\n",
    "\n",
    "\n",
    "print(x_um, 'um in x-axis dimension')\n",
    "print(y_um, 'um in y-axis dimension')\n",
    "\n",
    "# Display the image with starting and ending locations\n",
    "plt.imshow(img)\n",
    "plt.axis('off')  # Optional: Turn off axis labels\n",
    "plt.plot(start[0]*x,start[1]*y, 'o', color='white')\n",
    "plt.plot(end[0]*x,end[1]*y, 's', color='white')\n",
    "\n",
    "plt.show()"
   ]
  },
  {
   "cell_type": "markdown",
   "id": "cdfd616d-f9e3-4b16-a111-3130d25b2071",
   "metadata": {},
   "source": [
    "##### Create 1D arrays with X and Y coordinates and labels for each point"
   ]
  },
  {
   "cell_type": "code",
   "execution_count": null,
   "id": "0aa1897b-d874-4d3b-85a4-aaa7bef1379a",
   "metadata": {},
   "outputs": [],
   "source": [
    "def point_matrix(start_um, end_um, step_um, i_ini=0, reverse=False):\n",
    "    # start_um, end_um are lists with starting and ending coordinates \n",
    "    # return x vals, y vales, and point count labels\n",
    "    \n",
    "    # Start at top-left pixel and progress to the bottom-right in snake-like pattern\n",
    "    n_y_rows = int((end_um[1]-start_um[1])/step_um)+1\n",
    "    n_x_cols = int((end_um[0]-start_um[0])/step_um)+1\n",
    "\n",
    "    # Make 1D x-axis array that reflects snaking increments from top left to bottom right\n",
    "    x_vals = start_um[0]+np.arange(0, n_x_cols, 1)*step_um\n",
    "    X = np.tile(x_vals, n_y_rows)\n",
    "    X = X.reshape(n_y_rows, n_x_cols)\n",
    "    X = np.where(np.arange(len(X))[:,None]%2,X[:,::-1],X) # https://stackoverflow.com/questions/55677100/snake-traversal-of-2d-numpy-array\n",
    "    X = X.flatten()\n",
    "\n",
    "    # Make 1D y-axis values for the same array\n",
    "    y_vals = start_um[1]+np.arange(0, n_y_rows, 1)*step_um\n",
    "    Y = np.repeat(y_vals, n_x_cols)\n",
    "\n",
    "    # Define 1D array with point count labels\n",
    "    A = np.arange(1, n_y_rows*n_x_cols+1, 1)+i_ini\n",
    "    \n",
    "    if reverse:\n",
    "        return np.flip(X), np.flip(Y), A\n",
    "    else:\n",
    "        return X, Y, A"
   ]
  },
  {
   "cell_type": "markdown",
   "id": "992f6efc-406f-40f0-a0e2-46eba2d2de72",
   "metadata": {},
   "source": [
    "##### Show an example of a point count matrix with a step size of 2000 um"
   ]
  },
  {
   "cell_type": "code",
   "execution_count": null,
   "id": "ecdb6f73-40bf-40d9-b348-6590dbfcea72",
   "metadata": {},
   "outputs": [],
   "source": [
    "X, Y, A = point_matrix(start_um, end_um, 2000, reverse=True)\n",
    "\n",
    "# Display the image with starting and ending locations\n",
    "plt.imshow(img)\n",
    "plt.axis('off')  # Optional: Turn off axis labels\n",
    "plt.plot(X/um_per_pixel, Y/um_per_pixel, '-o', color='white', markersize=2)\n",
    "plt.axis('off')  # Optional: Turn off axis labels\n",
    "plt.plot(start[0]*x,start[1]*y, 'o', color='white')\n",
    "plt.plot(end[0]*x,end[1]*y, 's', color='white')\n",
    "\n",
    "plt.show()"
   ]
  },
  {
   "cell_type": "markdown",
   "id": "666e5ea6-0469-49dc-ac91-1985d04eaa16",
   "metadata": {},
   "source": [
    "##### New code below that allows one to specify the number of points desired and step size. The code will automatically infill with more points if the step size is too large to accomodate the number of desired points."
   ]
  },
  {
   "cell_type": "code",
   "execution_count": null,
   "id": "1a8cfcc6-f24d-4d9c-8245-b871d2f62ed0",
   "metadata": {},
   "outputs": [],
   "source": [
    "num_points = 200 # Number of desired points\n",
    "step_um = 8000. # Desired step size in um\n",
    "\n",
    "c = 0 # Counter variable that records total number of points logged\n",
    "d = 1. # Counter variable that reflects decreasing step count with each iteration\n",
    "e = 0 # Counter variable that controls whether the snake pattern is normal or reversed\n",
    "\n",
    "# Empty variables to store results in\n",
    "Xs = []\n",
    "Ys = []\n",
    "As = []\n",
    "legend = [] # Generation of point count\n",
    "\n",
    "while c < num_points:\n",
    "#for i in range(2):\n",
    "    if e % 2 == 0: # If even\n",
    "        reverse = False\n",
    "    else:\n",
    "        reverse = True\n",
    "    # New points to add\n",
    "    X, Y, A = point_matrix(start_um, end_um, step_um*d, i_ini=c, reverse=reverse)\n",
    "    print(len(X))\n",
    "    \n",
    "    # Remove new points that overlap with existing points\n",
    "    new = list(zip(X,Y))\n",
    "    compare = np.isin(new, list(zip(Xs, Ys)))\n",
    "    idx_to_remove = np.where(np.array([x[0] for x in compare])*np.array([x[1] for x in compare]) == 1)[0]\n",
    "    new_arr = np.delete(np.asarray(new), idx_to_remove, axis=0)\n",
    "    X = [x[0] for x in new_arr]\n",
    "    Y = [x[1] for x in new_arr]\n",
    "    A = np.arange(len(X))+c+1\n",
    "    c = c + len(X)\n",
    "    if c < num_points:\n",
    "        Xs = Xs + list(X[:])\n",
    "        Ys = Ys + list(Y[:])\n",
    "        As = As + list(A[:])\n",
    "        legend = legend + list(np.zeros(shape=(len(X),))+e+1)\n",
    "        d = d/2.\n",
    "        print('Not enough points, reducing spacing by half and continuing')\n",
    "    else:\n",
    "        Xs = Xs + list(X[:(num_points-c)])\n",
    "        Ys = Ys + list(Y[:(num_points-c)])\n",
    "        As = As + list(A[:(num_points-c)])\n",
    "        legend = legend + list(np.zeros(shape=(len(X[:(num_points-c)]),))+e+1)\n",
    "        print('Enough points achieved')\n",
    "        break\n",
    "    e = e+1"
   ]
  },
  {
   "cell_type": "markdown",
   "id": "36bf92c7-410c-4dae-90ba-a023892d727d",
   "metadata": {},
   "source": [
    "##### Plot that illustrates the point count locations"
   ]
  },
  {
   "cell_type": "code",
   "execution_count": null,
   "id": "093b7ec7-9dae-4bfe-abf8-323ebda7f8c7",
   "metadata": {},
   "outputs": [],
   "source": [
    "color_dict = {\n",
    "    1 : 'yellow',\n",
    "    2 : 'green',\n",
    "    3 : 'navy',\n",
    "    4 : 'red'\n",
    "}\n",
    "\n",
    "symbol_dict = {\n",
    "    1 : 'o',\n",
    "    2 : 's',\n",
    "    3 : '^',\n",
    "    4 : '>'\n",
    "}"
   ]
  },
  {
   "cell_type": "code",
   "execution_count": null,
   "id": "75c1e8b4-a40b-4c63-9309-db3b0d7e9b86",
   "metadata": {},
   "outputs": [],
   "source": [
    "fig, ax = plt.subplots(figsize=(20,20))\n",
    "\n",
    "# Display the image with starting and ending locations\n",
    "plt.imshow(img, alpha=0.5)\n",
    "plt.axis('off')  # Optional: Turn off axis labels\n",
    "for i in range(len(Xs)):\n",
    "    #plt.plot(Xs[i]/um_per_pixel, Ys[i]/um_per_pixel, markersize=10)\n",
    "    plt.plot(Xs[i]/um_per_pixel, Ys[i]/um_per_pixel, symbol_dict[legend[i]], color=color_dict[legend[i]], markersize=10)\n",
    "    plt.text(x=Xs[i]/um_per_pixel, y=Ys[i]/um_per_pixel, s=As[i], color='red')\n",
    "plt.axis('off')  # Optional: Turn off axis labels\n",
    "#plt.plot(start[0]*x,start[1]*y, 'o', color='white')\n",
    "#plt.plot(end[0]*x,end[1]*y, 's', color='white')\n",
    "\n",
    "plt.show()\n",
    "\n",
    "#plt.plot(X, Y, '-o')"
   ]
  },
  {
   "cell_type": "markdown",
   "id": "0e8c461c-06cf-4fd2-9e18-dbca1c655a7c",
   "metadata": {},
   "source": [
    "##### Make DataFrame to export point count locations as CSV"
   ]
  },
  {
   "cell_type": "code",
   "execution_count": null,
   "id": "3394d631-e64a-461a-a719-5a3574722f1d",
   "metadata": {},
   "outputs": [],
   "source": [
    "df = pd.DataFrame()\n",
    "df['label'] = As\n",
    "df['X (0-1)'] = np.array(Xs)/um_per_pixel/x\n",
    "df['Y (0-1)'] = np.array(Ys)/um_per_pixel/y\n",
    "df['X (um)'] = Xs\n",
    "df['Y (um)'] = Ys"
   ]
  },
  {
   "cell_type": "code",
   "execution_count": null,
   "id": "cab34b20-f01c-470c-8fcf-8d4d8efe9986",
   "metadata": {},
   "outputs": [],
   "source": [
    "df"
   ]
  },
  {
   "cell_type": "code",
   "execution_count": null,
   "id": "a17fa13b-5607-4de0-8bd5-7ee8dff191ef",
   "metadata": {},
   "outputs": [],
   "source": [
    "df.to_csv('point_count_locations.csv')"
   ]
  },
  {
   "cell_type": "code",
   "execution_count": null,
   "id": "5d42bd30-ec4d-4263-8fa1-86bbbc87eaf7",
   "metadata": {},
   "outputs": [],
   "source": []
  }
 ],
 "metadata": {
  "kernelspec": {
   "display_name": "Python 3 (ipykernel)",
   "language": "python",
   "name": "python3"
  },
  "language_info": {
   "codemirror_mode": {
    "name": "ipython",
    "version": 3
   },
   "file_extension": ".py",
   "mimetype": "text/x-python",
   "name": "python",
   "nbconvert_exporter": "python",
   "pygments_lexer": "ipython3",
   "version": "3.10.9"
  }
 },
 "nbformat": 4,
 "nbformat_minor": 5
}
